{
  "nbformat": 4,
  "nbformat_minor": 0,
  "metadata": {
    "colab": {
      "provenance": []
    },
    "kernelspec": {
      "name": "python3",
      "display_name": "Python 3"
    },
    "language_info": {
      "name": "python"
    }
  },
  "cells": [
    {
      "cell_type": "markdown",
      "source": [
        "# **Funciones**\n",
        "\n",
        "En computación, una función se define como un bloque de código que se puede llamar y ejecutar en un programa para realizar una tarea específica. En términos más técnicos, una función se define como una subrutina o procedimiento que toma cero o más argumentos, realiza un conjunto de operaciones y puede devolver un resultado.\n",
        "\n",
        "En Python existen funciones que aparecen recurrentemente (no confundir con un algoritmo recurrente) tales como `print()` o `open()`. Estas funciones son las llamadas \"Built in\" y es posible acceder a su documentación de manera sencilla con `help`.\n",
        "\n",
        "\n"
      ],
      "metadata": {
        "id": "010DZlFzzUrf"
      }
    },
    {
      "cell_type": "code",
      "execution_count": null,
      "metadata": {
        "id": "J5i1x-rRzKaa"
      },
      "outputs": [],
      "source": [
        "help(open)"
      ]
    },
    {
      "cell_type": "markdown",
      "source": [
        "Sin embargo, también es posible trabajar con funciones construidas a partir de rutinas propias. Para ello, Python contiene una sintaxis para su definición.\n",
        "\n",
        "```\n",
        "def function(arguments):\n",
        "    routine\n",
        "    return result_of_the_reoutine\n",
        "```\n",
        "\n",
        "En el esquema anterior se pueden ver varios elementos importantes en la definición de una función. La primera es la palabra clave `def` que sirve para comunicarle a python que se está por declarar o definir una función. La segunda es el nombre de la función, en este caso se ha utilizado un nombre bastante general: `function`. Luego entre paréntesis deben ir predefinidos los argumentos que deben ser definidos para el correcto funcionamiento de la función. Seguido se puede ver que existe una rutina llamada `routine`. Claramente esta linea resume de forma muy simplificada un algoritmo completo que conduce a que posteriormente la función devuelva através de `return` el valor que se precisa que la función entregue.\n",
        "\n",
        "En ocasiones, no es necesario que una función \"devuelva\" algo, en ocasiones la función puede simplemente hacer una impresión, o guardar información como un archivo en disco. Posteriormente veremos esto de una forma más profunda. Por lo pronto veamos cómo y por qué se usan funciones de una forma intuitiva.  "
      ],
      "metadata": {
        "id": "U_m0NE3Zqx0W"
      }
    },
    {
      "cell_type": "markdown",
      "source": [
        "**Ejercicio 0**\n",
        "\n",
        "La ecuación cuadrática es una ecuación de la forma\n",
        "$$ax^2 + bx + c = 0$$\n",
        "Donde $a, b, c \\in \\Re$. Dicha ecuación tiene 2 soluciones en general complejas de la forma\n",
        "\n",
        "$$x = \\frac{-b \\pm \\sqrt{b^2 - 4 a c}}{2 a}$$\n",
        "\n",
        "Desarrolle una rutina para el cálculo de las soluciones de $x$ dependiendo de $a,b,c$ préviamente definidas."
      ],
      "metadata": {
        "id": "bPpdzgxJtY3K"
      }
    },
    {
      "cell_type": "code",
      "source": [
        "a = 1\n",
        "b = -5\n",
        "c = 6\n",
        "\n",
        "x1 = (-b + (b**2 - 4*a*c)**0.5)/(2*a)\n",
        "x2 = (-b - (b**2 - 4*a*c)**0.5)/(2*a)\n",
        "\n",
        "print(x1, x2)"
      ],
      "metadata": {
        "id": "MHtDtpnMqQRe",
        "colab": {
          "base_uri": "https://localhost:8080/"
        },
        "outputId": "fbb2b8f0-1c59-4938-e5be-9b2ef0f2bd84"
      },
      "execution_count": null,
      "outputs": [
        {
          "output_type": "stream",
          "name": "stdout",
          "text": [
            "3.0 2.0\n"
          ]
        }
      ]
    },
    {
      "cell_type": "code",
      "source": [
        "def cuadratic_solution(a, b, c):\n",
        "  x1 = (-b + (b**2 - 4*a*c)**0.5)/(2*a)\n",
        "  x2 = (-b - (b**2 - 4*a*c)**0.5)/(2*a)\n",
        "\n",
        "  print(f\"Las soluciones a la ecuación cuadrática son {x1, x2}\")\n",
        "  return x1, x2\n",
        "\n",
        "var1, var2 = cuadratic_solution(1, -5, 6)"
      ],
      "metadata": {
        "colab": {
          "base_uri": "https://localhost:8080/"
        },
        "id": "arQyOMDCVHmx",
        "outputId": "324bed54-bd83-4784-ffe3-be716d6ae93d"
      },
      "execution_count": null,
      "outputs": [
        {
          "output_type": "stream",
          "name": "stdout",
          "text": [
            "Las soluciones a la ecuación cuadrática son (3.0, 2.0)\n"
          ]
        }
      ]
    },
    {
      "cell_type": "markdown",
      "source": [
        "Cuando se está desarrollando código es fácil cometer errores. Suponga que en lugar de elevar al valor de `**0.5`, se multiplica por dicho valor `*0.5`, y esta rutina se utiliza para resolver todo el álgebra de Baldor.\n",
        "\n",
        "Este error se propagaría a lo largo de cientos o quizás miles de ejercicios, lo cual en el punto en el que una persona encargada de \"debuggear\" el código habría demasiadas lineas que revisar para poder corregir un simple `*` que se propagó por hacer `Ctrl+C`, `Ctrl+V`. En este sentido implementar una función y utilizarla recurrentemente podría ser más útil, pues corregir todos estos ejercicios."
      ],
      "metadata": {
        "id": "uL3dNa0Vu5TS"
      }
    },
    {
      "cell_type": "code",
      "source": [
        "def cuadratic_solution(a, b, c):\n",
        "  \"\"\"\n",
        "  Función recibe 3 valores enteros o flotantes: a, b, y c,\n",
        "  y retorna la solución a la ecuación cuadrática ax^2 + bx + c = 0\n",
        "\n",
        "  Ex:\n",
        "    In[0]: x, y = cuadratic_solution(1, -5, 6)\n",
        "    Out[0]: Las soluciones a la ecuación cuadrática son (3.0, 2.0)\n",
        "  \"\"\"\n",
        "  x1 = (-b + (b**2 - 4*a*c)**0.5)/(2*a)\n",
        "  x2 = (-b - (b**2 - 4*a*c)**0.5)/(2*a)\n",
        "\n",
        "  print(f\"Las soluciones a la ecuación cuadrática son {x1, x2}\")\n",
        "  return x1, x2\n",
        "\n",
        "var1, var2 = cuadratic_solution(1, -5, 6)"
      ],
      "metadata": {
        "id": "CCOggflCuxM0",
        "colab": {
          "base_uri": "https://localhost:8080/"
        },
        "outputId": "090ed12a-db52-4d78-c86c-775c5adee55c"
      },
      "execution_count": null,
      "outputs": [
        {
          "output_type": "stream",
          "name": "stdout",
          "text": [
            "Las soluciones a la ecuación cuadrática son (3.0, 2.0)\n"
          ]
        }
      ]
    },
    {
      "cell_type": "code",
      "source": [
        "type(var1)"
      ],
      "metadata": {
        "colab": {
          "base_uri": "https://localhost:8080/"
        },
        "id": "3CYClQ5rZGQY",
        "outputId": "610589cd-d9fb-4279-b8aa-cf947a09e583"
      },
      "execution_count": null,
      "outputs": [
        {
          "output_type": "execute_result",
          "data": {
            "text/plain": [
              "float"
            ]
          },
          "metadata": {},
          "execution_count": 19
        }
      ]
    },
    {
      "cell_type": "code",
      "source": [
        "help(cuadratic_solution)"
      ],
      "metadata": {
        "id": "ODBaMFxXz_VC",
        "colab": {
          "base_uri": "https://localhost:8080/"
        },
        "outputId": "13aaddec-f2c2-411c-bb21-8a65a80ac507"
      },
      "execution_count": null,
      "outputs": [
        {
          "output_type": "stream",
          "name": "stdout",
          "text": [
            "Help on function cuadratic_solution in module __main__:\n",
            "\n",
            "cuadratic_solution(a: float, b: float, c: float)\n",
            "    Función recibe 3 valores enteros o flotantes: a, b, y c,\n",
            "    y retorna la solución a la ecuación cuadrática ax^2 + bx + c = 0\n",
            "    \n",
            "    Ex:\n",
            "      In[0]: x, y = cuadratic_solution(1, -5, 6)\n",
            "      Out[0]: Las soluciones a la ecuación cuadrática son (3.0, 2.0)\n",
            "\n"
          ]
        }
      ]
    },
    {
      "cell_type": "markdown",
      "source": [
        "La posibilidad de definir nuestras propias funciones nos ayudará de diversas maneras:\n",
        "\n",
        "* Cuando estemos escribiendo un programa y veamos que estamos escribiendo el mismo código más de una vez, probablemente sea mejor definir una función con el código repetido. Luego podremos llamar a la función tantas veces como sea necesario en lugar de reescribir el código una y otra vez. Es importante que evitemos escribir el mismo código más de una vez en nuestros programas.\n",
        "\n",
        "* Si escribimos el mismo código más de una vez y cometemos un error, debemos corregir ese error en cada lugar donde copiamos el código. Si por el contrario, tenemos el código en un solo lugar, definido en una función, podremos resolver el error solo en este lugar y olvidarnos del resto de lugares.\n",
        "\n",
        "  Si cometemos un error al escribir una función, y luego corregimos el código en la función, habremos corregido automáticamente el código en cada lugar que utiliza la función. Este principio de programación modular es un concepto muy importante.\n",
        "\n",
        "* Las funciones también ayudan a que nuestro código sea más fácil de leer. Cuando usamos buenos nombres para las variables y funciones en nuestros programas, podemos leer el código y comprender lo que hemos escrito, no solo mientras lo escribimos, sino tiempo después, cuando necesitemos mirar el código que escribimos nuevamente.\n",
        "\n",
        "Las funciones son pues una forma de organizar nuestro código y hacerlo más legible y reutilizable. Cuando escribamos una función debemos tener presentes los siguientes puntos:\n",
        "\n",
        " * ¿Cómo deberíamos llamar nuestra función? Deberíamos darle un nombre que tenga sentido y describa lo que hace la función. Como una función hace algo, el nombre de una función suele ser un verbo o una descripción de lo que devuelve la función. Puede ser una palabra o varias palabras.\n",
        " * ¿Qué debemos pasarle a nuestra función? En otras palabras, ¿qué argumentos pasaremos a la función? Al pensar en argumentos para pasarle a una función, debemos pensar cómo se usará la función y qué argumentos la harían más útil.\n",
        " * ¿Qué debe hacer la función? ¿Cual es su propósito? La función debe tener un propósito claramente definido. ¿Debería devolver un valor particular o debería realizar alguna tarea secundaria?\n",
        " * Finalmente, ¿qué debe devolver nuestra función? Se debe considerar el tipo y el valor a devolver. Si la función va a devolver un valor, debebemos decidir qué tipo de valor deberá devolver.\n",
        "\n",
        "Al considerar estas preguntas y responderlas, podemos asegurarnos de que nuestras funciones tengan sentido antes de escribirlas."
      ],
      "metadata": {
        "id": "hjkg3rED0mQW"
      }
    },
    {
      "cell_type": "markdown",
      "source": [
        "## **Tipos de Funciones**"
      ],
      "metadata": {
        "id": "z9uSXro8013c"
      }
    },
    {
      "cell_type": "markdown",
      "source": [
        "1. **Funciones de argumentos requeridos**: Los argumentos requeridos son argumentos pasados a una función, que tienen un carácter obligatorio y se dan en el **orden posicional correcto**. Veamos un ejemplo: creemos una función que, dados dos parámetros, nos devuelva la resta de estos:"
      ],
      "metadata": {
        "id": "TQsi1g4S1kwa"
      }
    },
    {
      "cell_type": "code",
      "source": [
        "def substraction(a, b):\n",
        "  return b - a\n",
        "\n",
        "substraction(3, 2)"
      ],
      "metadata": {
        "id": "liVp67A50SUM",
        "colab": {
          "base_uri": "https://localhost:8080/"
        },
        "outputId": "83b592ff-9c1a-4924-f568-ebf4b446538d"
      },
      "execution_count": null,
      "outputs": [
        {
          "output_type": "execute_result",
          "data": {
            "text/plain": [
              "-1"
            ]
          },
          "metadata": {},
          "execution_count": 24
        }
      ]
    },
    {
      "cell_type": "code",
      "source": [
        "substraction(b = 3, a = 2)"
      ],
      "metadata": {
        "colab": {
          "base_uri": "https://localhost:8080/"
        },
        "id": "kv77sD6RaRbB",
        "outputId": "bc024f13-704f-4945-805b-b020ede4f8ed"
      },
      "execution_count": null,
      "outputs": [
        {
          "output_type": "execute_result",
          "data": {
            "text/plain": [
              "1"
            ]
          },
          "metadata": {},
          "execution_count": 25
        }
      ]
    },
    {
      "cell_type": "markdown",
      "source": [
        "  Esta función solamente precisa específicamente de dos argumentos para funcionar."
      ],
      "metadata": {
        "id": "Na-PhdQG1pWM"
      }
    },
    {
      "cell_type": "markdown",
      "source": [
        "2. **Argumentos predeterminados**: A menudo, al definir una función, hay ciertos valores que queremos que la función use la mayor parte del tiempo, pero también nos gustaría tener cierta flexibilidad en la elección de estos valores. En tal caso, podemos usar valores predeterminados para los argumentos. Redefinamos la función `Saludo` de manera que el argumento `nombre` tome un valor por defecto"
      ],
      "metadata": {
        "id": "ZcPYIvUM2HLg"
      }
    },
    {
      "cell_type": "code",
      "source": [
        "def generic_greetings(name = 'Señor o Señora'):\n",
        "  print(f'Hola {name}, cómo se encuentra hoy?')\n",
        "\n",
        "generic_greetings()"
      ],
      "metadata": {
        "id": "uKPQZuzh16GF",
        "colab": {
          "base_uri": "https://localhost:8080/"
        },
        "outputId": "230274e8-ee1e-4d16-f9cc-6c67c1e4248d"
      },
      "execution_count": null,
      "outputs": [
        {
          "output_type": "stream",
          "name": "stdout",
          "text": [
            "Hola Señor o Señora, cómo se encuentra hoy?\n"
          ]
        }
      ]
    },
    {
      "cell_type": "code",
      "source": [
        "generic_greetings(name = 'Tomas')"
      ],
      "metadata": {
        "id": "dzH3wT4y2hcp",
        "colab": {
          "base_uri": "https://localhost:8080/"
        },
        "outputId": "3bc71959-6821-4167-8748-ebea9ab72aa1"
      },
      "execution_count": null,
      "outputs": [
        {
          "output_type": "stream",
          "name": "stdout",
          "text": [
            "Hola Tomas, cómo se encuentra hoy?\n"
          ]
        }
      ]
    },
    {
      "cell_type": "markdown",
      "source": [
        "## **Argumentos de longitud variable**\n",
        "\n",
        "Es posible que necesitemos ejecutar una función en la que en principio no sabemos cuántos argumentos se pasarán a la función. En este caso, podemos utilizar una clase especial de argumentos, denominados argumentos de longitud variable, con los que podemos capturar todos los argumentos que se pasen a la función.\n",
        "\n",
        "**args**: El argumento de longitud variable `*args` permite capturar una serie de argumentos sin necesidad de especificar en un principio su número"
      ],
      "metadata": {
        "id": "W_IaahR45zFv"
      }
    },
    {
      "cell_type": "code",
      "source": [
        "def sumatory(*nums):\n",
        "  total = 5\n",
        "  for number in nums:\n",
        "    total += number\n",
        "\n",
        "    #print(total)\n",
        "  return total"
      ],
      "metadata": {
        "id": "WLh4rBz12X0D"
      },
      "execution_count": null,
      "outputs": []
    },
    {
      "cell_type": "code",
      "source": [
        "nums = 1, 2, 3\n",
        "type(nums)"
      ],
      "metadata": {
        "colab": {
          "base_uri": "https://localhost:8080/"
        },
        "id": "oAw-F2r7dw4g",
        "outputId": "8c9c57cc-25d2-4cee-fa43-49c79c1e259c"
      },
      "execution_count": null,
      "outputs": [
        {
          "output_type": "execute_result",
          "data": {
            "text/plain": [
              "tuple"
            ]
          },
          "metadata": {},
          "execution_count": 36
        }
      ]
    },
    {
      "cell_type": "code",
      "source": [
        "sumatory(1, 2, 3)"
      ],
      "metadata": {
        "id": "VxUWvMhR7HPp",
        "colab": {
          "base_uri": "https://localhost:8080/"
        },
        "outputId": "56a64801-9af0-4039-c017-c7bb690fc930"
      },
      "execution_count": null,
      "outputs": [
        {
          "output_type": "execute_result",
          "data": {
            "text/plain": [
              "11"
            ]
          },
          "metadata": {},
          "execution_count": 34
        }
      ]
    },
    {
      "cell_type": "markdown",
      "source": [
        "## **Lambdas $\\lambda$**\n",
        "\n",
        "Estas funciones se denominan anónimas porque no se declaran de la manera estándar utilizando la palabra clave `def`. Podemos usar la palabra clave `lambda` para crear pequeñas funciones anónimas. La sintáxis general es de la forma:\n",
        "\n",
        "  `lambda arg1, arg2, ... : expresion(arg1, arg2, ...)`\n",
        "\n",
        "Por ejemplo, definamos una función que realice la suma de dos números"
      ],
      "metadata": {
        "id": "Znfzf2aG7u-d"
      }
    },
    {
      "cell_type": "code",
      "source": [
        "suma_2 =lambda a,b : a + b\n",
        "suma_2(3,2)"
      ],
      "metadata": {
        "id": "4fOhDrPj7I-W",
        "colab": {
          "base_uri": "https://localhost:8080/"
        },
        "outputId": "93caa335-a455-48e6-a8b5-b8ffdd38f057"
      },
      "execution_count": null,
      "outputs": [
        {
          "output_type": "execute_result",
          "data": {
            "text/plain": [
              "5"
            ]
          },
          "metadata": {},
          "execution_count": 42
        }
      ]
    },
    {
      "cell_type": "code",
      "source": [
        "sumatory"
      ],
      "metadata": {
        "id": "7kR4Xkrr8AFb",
        "colab": {
          "base_uri": "https://localhost:8080/"
        },
        "outputId": "9d6380c3-cfae-4b32-e742-adcc6aab0d52"
      },
      "execution_count": null,
      "outputs": [
        {
          "output_type": "execute_result",
          "data": {
            "text/plain": [
              "<function __main__.sumatory(*nums)>"
            ]
          },
          "metadata": {},
          "execution_count": 39
        }
      ]
    },
    {
      "cell_type": "markdown",
      "source": [
        "# **Clases y Objetos**\n",
        "\n",
        "Una clase es una plantilla o un plano que define la estructura y el comportamiento de un tipo de objeto en particular. En Python, absolutamente todo es un objeto, esto quiere decir que todo tiene métodos (funcionalidades) y atributos (características). Una clase en Python actúa como un \"molde\" a partir del cual se crean múltiples objetos. Define los atributos y los métodos que los objetos de esa clase tendrán. Los atributos son las variables asociadas a la clase y los métodos son las funciones que pueden ser llamadas en los objetos de esa clase.\n",
        "\n",
        "Por otro lado, un objeto es una instancia específica de una clase. Un objeto puede ser cualquier cosa, desde números, cadenas de texto o listas, hasta estructuras de datos más complejas o incluso entidades abstractas en un programa. Cada objeto tiene un estado (representado por sus atributos o variables) y un comportamiento (definido por sus métodos o funciones).\n",
        "\n",
        "\n",
        "```\n",
        "class Nombre_De_La_Clase():\n",
        "  def __init__(self, characts_args):\n",
        "    self.characteristics = characts_args\n",
        "\n",
        "  def funcionalidad(self, args):\n",
        "    routine\n",
        "```\n",
        "\n",
        "En la técnica esta es la sintaxis básica para la implementación de una clase. Veámoslo en la práctica.\n",
        "\n",
        "**Ejercicio 2**\n",
        "\n",
        "Cree una clase que ayude a una empresa a estandarizar la información de las personas que ingresan a sus planteles. Entre los atributos de las personas como nombre e identificación, debe estar la información de si son clientes o personal de la empresa, además. Genere\n",
        "\n",
        "\n",
        "\n"
      ],
      "metadata": {
        "id": "Dv8Jq5mK9o3H"
      }
    },
    {
      "cell_type": "code",
      "source": [
        "class Persona():\n",
        "\n",
        "  def __init__(self, name, last_name, ID):\n",
        "    self.info = {'Nombre': name,\n",
        "                 'Apellido': last_name,\n",
        "                 'ID': ID}\n",
        "\n",
        "  def generar_binario(self):\n",
        "    id_bin = self.info['ID']"
      ],
      "metadata": {
        "id": "_7ip6D6K8Mgq"
      },
      "execution_count": null,
      "outputs": []
    },
    {
      "cell_type": "code",
      "source": [],
      "metadata": {
        "id": "gJyeej-mFGf6"
      },
      "execution_count": null,
      "outputs": []
    },
    {
      "cell_type": "code",
      "source": [],
      "metadata": {
        "id": "Ls6W1u0YFOZt"
      },
      "execution_count": null,
      "outputs": []
    },
    {
      "cell_type": "code",
      "source": [],
      "metadata": {
        "id": "ZFvfAbqiKPqx"
      },
      "execution_count": null,
      "outputs": []
    },
    {
      "cell_type": "code",
      "source": [],
      "metadata": {
        "id": "Y_8bD7c8HuCL"
      },
      "execution_count": null,
      "outputs": []
    },
    {
      "cell_type": "code",
      "source": [],
      "metadata": {
        "id": "5zQg_6moG-Fg"
      },
      "execution_count": null,
      "outputs": []
    },
    {
      "cell_type": "code",
      "source": [],
      "metadata": {
        "id": "LUxudoO3EbOK"
      },
      "execution_count": null,
      "outputs": []
    }
  ]
}